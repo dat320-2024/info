{
 "cells": [
  {
   "cell_type": "markdown",
   "id": "5160ef13-d03b-48f8-bb2e-8f71f65f16a0",
   "metadata": {},
   "source": [
    "# Race Condition Demo"
   ]
  },
  {
   "cell_type": "code",
   "execution_count": 6,
   "id": "3e9e7949-529d-430b-b041-17dacd6c48ae",
   "metadata": {},
   "outputs": [],
   "source": [
    "#! pip install thread6"
   ]
  },
  {
   "cell_type": "code",
   "execution_count": 7,
   "id": "57b1642b-2dcb-480b-9193-6d6ece677457",
   "metadata": {},
   "outputs": [],
   "source": [
    "from datetime import datetime\n",
    "import threading\n",
    "import time"
   ]
  },
  {
   "cell_type": "markdown",
   "id": "7807aed1-97b1-4b1d-b023-386168c1fd41",
   "metadata": {},
   "source": [
    "# Unsafe counting causes race condition"
   ]
  },
  {
   "cell_type": "code",
   "execution_count": 8,
   "id": "7a18b140-b34b-4708-8bfb-3bf7734488d8",
   "metadata": {},
   "outputs": [],
   "source": [
    "# Unsafe thread function\n",
    "def do_count( eti):\n",
    "    global counter\n",
    "    for i in range(0,eti):\n",
    "        #---critical section \n",
    "        counter*=2\n",
    "        time.sleep(1e-6)#micro-second\n",
    "        counter/=2\n",
    "        counter+=1  \n",
    "        #--------------------\n"
   ]
  },
  {
   "cell_type": "markdown",
   "id": "70dbd7c8-bc32-4957-a239-02f47ead0ad4",
   "metadata": {},
   "source": [
    "# Safe counting with lock"
   ]
  },
  {
   "cell_type": "code",
   "execution_count": 9,
   "id": "e9914c5c-2030-43df-b327-5d3e36c0cac6",
   "metadata": {},
   "outputs": [],
   "source": [
    "from threading import Thread, Lock\n",
    "lock=Lock()\n",
    "def do_safe_count( eti):\n",
    "    global counter\n",
    "    for i in range(0,eti):\n",
    "        lock.acquire()\n",
    "         #---critical section \n",
    "        counter*=2\n",
    "        time.sleep(1e-6)#micro-second\n",
    "        counter/=2\n",
    "        counter+=1  \n",
    "        #--------------------\n",
    "        lock.release()"
   ]
  },
  {
   "cell_type": "markdown",
   "id": "aa86ec29-73c6-46e6-9fa4-93ad628de45c",
   "metadata": {},
   "source": [
    "# Use case"
   ]
  },
  {
   "cell_type": "code",
   "execution_count": 10,
   "id": "3f4d60a6-69c0-4b83-87c1-049142df39fc",
   "metadata": {},
   "outputs": [
    {
     "name": "stdout",
     "output_type": "stream",
     "text": [
      "Expected count =  5000000\n"
     ]
    },
    {
     "ename": "KeyboardInterrupt",
     "evalue": "",
     "output_type": "error",
     "traceback": [
      "\u001b[0;31m---------------------------------------------------------------------------\u001b[0m",
      "\u001b[0;31mKeyboardInterrupt\u001b[0m                         Traceback (most recent call last)",
      "Cell \u001b[0;32mIn[10], line 22\u001b[0m\n\u001b[1;32m     19\u001b[0m \u001b[38;5;66;03m#To block the main thread (calling thread)\u001b[39;00m\n\u001b[1;32m     20\u001b[0m \u001b[38;5;66;03m# we need this to be able to print our final results\u001b[39;00m\n\u001b[1;32m     21\u001b[0m \u001b[38;5;28;01mfor\u001b[39;00m p \u001b[38;5;129;01min\u001b[39;00m ps:\n\u001b[0;32m---> 22\u001b[0m     \u001b[43mp\u001b[49m\u001b[38;5;241;43m.\u001b[39;49m\u001b[43mjoin\u001b[49m\u001b[43m(\u001b[49m\u001b[43m)\u001b[49m\n\u001b[1;32m     24\u001b[0m \u001b[38;5;28mprint\u001b[39m(\u001b[38;5;124m\"\u001b[39m\u001b[38;5;124mUnsafe count = \u001b[39m\u001b[38;5;124m\"\u001b[39m,counter, \u001b[38;5;124m\"\u001b[39m\u001b[38;5;124mnumber of threads=\u001b[39m\u001b[38;5;124m\"\u001b[39m, number_of_threads)\n\u001b[1;32m     27\u001b[0m counter\u001b[38;5;241m=\u001b[39m\u001b[38;5;241m0\u001b[39m\n",
      "File \u001b[0;32m/Library/Frameworks/Python.framework/Versions/3.10/lib/python3.10/threading.py:1096\u001b[0m, in \u001b[0;36mThread.join\u001b[0;34m(self, timeout)\u001b[0m\n\u001b[1;32m   1093\u001b[0m     \u001b[38;5;28;01mraise\u001b[39;00m \u001b[38;5;167;01mRuntimeError\u001b[39;00m(\u001b[38;5;124m\"\u001b[39m\u001b[38;5;124mcannot join current thread\u001b[39m\u001b[38;5;124m\"\u001b[39m)\n\u001b[1;32m   1095\u001b[0m \u001b[38;5;28;01mif\u001b[39;00m timeout \u001b[38;5;129;01mis\u001b[39;00m \u001b[38;5;28;01mNone\u001b[39;00m:\n\u001b[0;32m-> 1096\u001b[0m     \u001b[38;5;28;43mself\u001b[39;49m\u001b[38;5;241;43m.\u001b[39;49m\u001b[43m_wait_for_tstate_lock\u001b[49m\u001b[43m(\u001b[49m\u001b[43m)\u001b[49m\n\u001b[1;32m   1097\u001b[0m \u001b[38;5;28;01melse\u001b[39;00m:\n\u001b[1;32m   1098\u001b[0m     \u001b[38;5;66;03m# the behavior of a negative timeout isn't documented, but\u001b[39;00m\n\u001b[1;32m   1099\u001b[0m     \u001b[38;5;66;03m# historically .join(timeout=x) for x<0 has acted as if timeout=0\u001b[39;00m\n\u001b[1;32m   1100\u001b[0m     \u001b[38;5;28mself\u001b[39m\u001b[38;5;241m.\u001b[39m_wait_for_tstate_lock(timeout\u001b[38;5;241m=\u001b[39m\u001b[38;5;28mmax\u001b[39m(timeout, \u001b[38;5;241m0\u001b[39m))\n",
      "File \u001b[0;32m/Library/Frameworks/Python.framework/Versions/3.10/lib/python3.10/threading.py:1116\u001b[0m, in \u001b[0;36mThread._wait_for_tstate_lock\u001b[0;34m(self, block, timeout)\u001b[0m\n\u001b[1;32m   1113\u001b[0m     \u001b[38;5;28;01mreturn\u001b[39;00m\n\u001b[1;32m   1115\u001b[0m \u001b[38;5;28;01mtry\u001b[39;00m:\n\u001b[0;32m-> 1116\u001b[0m     \u001b[38;5;28;01mif\u001b[39;00m \u001b[43mlock\u001b[49m\u001b[38;5;241;43m.\u001b[39;49m\u001b[43macquire\u001b[49m\u001b[43m(\u001b[49m\u001b[43mblock\u001b[49m\u001b[43m,\u001b[49m\u001b[43m \u001b[49m\u001b[43mtimeout\u001b[49m\u001b[43m)\u001b[49m:\n\u001b[1;32m   1117\u001b[0m         lock\u001b[38;5;241m.\u001b[39mrelease()\n\u001b[1;32m   1118\u001b[0m         \u001b[38;5;28mself\u001b[39m\u001b[38;5;241m.\u001b[39m_stop()\n",
      "\u001b[0;31mKeyboardInterrupt\u001b[0m: "
     ]
    }
   ],
   "source": [
    "# use case\n",
    "iterations=100\n",
    "number_of_threads=5\n",
    "expected_count=iterations*number_of_threads\n",
    "print(\"Expected count = \",expected_count )\n",
    "\n",
    "#shared memory\n",
    "counter=0\n",
    "\n",
    "ps=[] # list of threads \n",
    "#create the threads\n",
    "for i in range(number_of_threads):\n",
    "    p=threading.Thread(target=do_count,args=(iterations,))\n",
    "    ps.append(p)\n",
    "    \n",
    "for p in ps:\n",
    "    p.start()\n",
    "\n",
    "#To block the main thread (calling thread)\n",
    "# we need this to be able to print our final results\n",
    "for p in ps:\n",
    "    p.join()\n",
    "  \n",
    "print(\"Unsafe count = \",counter, \"number of threads=\", number_of_threads)\n",
    "\n",
    "\n",
    "counter=0\n",
    "ps=[] # list of threads \n",
    "\n",
    "#create the threads\n",
    "for i in range(number_of_threads):\n",
    "    p=threading.Thread(target=do_safe_count,args=(iterations,))\n",
    "    ps.append(p)\n",
    "    \n",
    "for p in ps:\n",
    "    p.start()\n",
    "\n",
    "#To block the main thread (calling thread)\n",
    "# we need this to be able to print our final results\n",
    "for p in ps:\n",
    "    p.join()\n",
    "  \n",
    "print(\"Safe count = \",counter, \"number of threads=\", number_of_threads)\n"
   ]
  },
  {
   "cell_type": "code",
   "execution_count": null,
   "id": "28dd0908-24b2-4f44-a6e8-2543ab5f7514",
   "metadata": {},
   "outputs": [],
   "source": []
  },
  {
   "cell_type": "code",
   "execution_count": null,
   "id": "d95c7789-a151-4db2-8fb6-dd41b481e434",
   "metadata": {},
   "outputs": [],
   "source": []
  }
 ],
 "metadata": {
  "kernelspec": {
   "display_name": "Python 3 (ipykernel)",
   "language": "python",
   "name": "python3"
  },
  "language_info": {
   "codemirror_mode": {
    "name": "ipython",
    "version": 3
   },
   "file_extension": ".py",
   "mimetype": "text/x-python",
   "name": "python",
   "nbconvert_exporter": "python",
   "pygments_lexer": "ipython3",
   "version": "3.10.5"
  }
 },
 "nbformat": 4,
 "nbformat_minor": 5
}
